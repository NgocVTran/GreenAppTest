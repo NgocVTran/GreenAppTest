{
 "cells": [
  {
   "cell_type": "code",
   "execution_count": 1,
   "metadata": {},
   "outputs": [],
   "source": [
    "test = { \n",
    "    \"household\":{ \n",
    "        \"nr_of_people\":\"4\",\n",
    "        \"country\":\"Germany\",\n",
    "        \"size_of_housing\":\"60\",\n",
    "        \"type_of_housing\":\"Detached\",\n",
    "        \"electricity_consumption\":\"12\",\n",
    "        \"clean_energy_source\":\"20\",\n",
    "        \"lightbulbs\":\"1\",\n",
    "        \"STAR\":\"1\",\n",
    "        \"thermostat\":\"0\",\n",
    "        \"energy_saving_device\":\"0\",\n",
    "        \"solar_water_heater\":\"1\",\n",
    "        \"heating_energy_source\":\"Natural Gas\"\n",
    "    },\n",
    "    \"transport\":{ \n",
    "        \"intercity_train\":\"1\",\n",
    "        \"subway\":\"1\",\n",
    "        \"intercity_bus\":\"1\",\n",
    "        \"city_bus\":\"1\",\n",
    "        \"tram\":\"1\",\n",
    "        \"bike_walk\":\"1\",\n",
    "        \"fuel_type\":\"Gasoline\",\n",
    "        \"annual_mileage\":\"100\",\n",
    "        \"average_consumption\":\"100\",\n",
    "        \"flight_very_long\":\"1\",\n",
    "        \"flight_long\":\"1\",\n",
    "        \"flight_medium\":\"1\",\n",
    "        \"flight_short\":\"1\"\n",
    "    },\n",
    "    \"lifestyle\":{ \n",
    "        \"preferred_diet\":\"Meat in most meals\",\n",
    "        \"local_product\":\"I'm not considering this option\",\n",
    "        \"buy_from_companies\":\"I'm not considering this option\",\n",
    "        \"eat_out\":\"2\",\n",
    "        \"food\":\"0\",\n",
    "        \"paper\":\"1\",\n",
    "        \"tincan\":\"1\",\n",
    "        \"plastic\":\"0\",\n",
    "        \"glass\":\"0\"\n",
    "    }\n",
    "}"
   ]
  },
  {
   "cell_type": "code",
   "execution_count": 3,
   "metadata": {},
   "outputs": [
    {
     "name": "stdout",
     "output_type": "stream",
     "text": [
      "first running time: 1.1397027969360352\n",
      "{'total_annual': 42.259299999999996, 'country_average': 35.56, 'world_average': 35.56}\n",
      "second+ running time: 7.557868957519531e-05\n",
      "{'total_annual': 42.259299999999996, 'country_average': 35.56, 'world_average': 35.56}\n",
      "second+ running time: 9.703636169433594e-05\n",
      "{'results': [{'total_annual': 42.259299999999996, 'country_average': 35.56, 'world_average': 35.56}, {'total_annual': 42.259299999999996, 'country_average': 35.56, 'world_average': 35.56}]}\n"
     ]
    }
   ],
   "source": [
    "from Equations import Equations\n",
    "import time\n",
    "\n",
    "tic = time.time() \n",
    "equation = Equations()\n",
    "result = equation.get_result(test)\n",
    "toc = time.time()\n",
    "print('first running time: {}'.format(toc - tic))\n",
    "print(result)\n",
    "\n",
    "tic = time.time() \n",
    "result = equation.get_result(test)\n",
    "toc = time.time()\n",
    "print('second+ running time: {}'.format(toc - tic))\n",
    "print(result)\n",
    "\n",
    "tic = time.time() \n",
    "result = equation.get_results([test, test])\n",
    "toc = time.time()\n",
    "print('second+ running time: {}'.format(toc - tic))\n",
    "print(result)"
   ]
  },
  {
   "cell_type": "code",
   "execution_count": null,
   "metadata": {},
   "outputs": [],
   "source": []
  }
 ],
 "metadata": {
  "kernelspec": {
   "display_name": "Python 3",
   "language": "python",
   "name": "python3"
  },
  "language_info": {
   "codemirror_mode": {
    "name": "ipython",
    "version": 3
   },
   "file_extension": ".py",
   "mimetype": "text/x-python",
   "name": "python",
   "nbconvert_exporter": "python",
   "pygments_lexer": "ipython3",
   "version": "3.7.3"
  }
 },
 "nbformat": 4,
 "nbformat_minor": 4
}
